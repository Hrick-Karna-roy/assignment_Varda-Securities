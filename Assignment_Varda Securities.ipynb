{
 "cells": [
  {
   "cell_type": "code",
   "execution_count": 18,
   "id": "ac066b43",
   "metadata": {},
   "outputs": [
    {
     "data": {
      "text/plain": [
       "'3.8.10'"
      ]
     },
     "execution_count": 18,
     "metadata": {},
     "output_type": "execute_result"
    }
   ],
   "source": [
    "from platform import python_version\n",
    "python_version()"
   ]
  },
  {
   "cell_type": "code",
   "execution_count": 161,
   "id": "dc3e4bbb",
   "metadata": {
    "scrolled": true
   },
   "outputs": [
    {
     "name": "stdout",
     "output_type": "stream",
     "text": [
      "31135.0\n",
      "31634.0\n"
     ]
    }
   ],
   "source": [
    "import pandas as pd\n",
    "import numpy as np\n",
    "#importing the csv file \n",
    "#need to install openpyxl package to read .xlsx file\n",
    "df = pd.read_excel('/home/hrick/Downloads/data test.xlsx')\n",
    "#defining a function to make an avarage of closing price of last n days\n",
    "#1 make an avarage which has last 21 days close price\n",
    "#2 make an avarage which has last 50 days close price\n",
    "def avgclosepriceoflast_n_days(n):\n",
    "    qone = pd.Series(df[\"Close\"][len(df)-n:])\n",
    "    data=qone.to_numpy()\n",
    "    avg = sum(data)//len(data)\n",
    "    return avg\n",
    "#1 make an avarage which has last 21 days close price\n",
    "print(avgclosepriceoflast_n_days(21))\n",
    "#2 make an avarage which has last 50 days close price\n",
    "print(avgclosepriceoflast_n_days(50))"
   ]
  },
  {
   "cell_type": "code",
   "execution_count": 160,
   "id": "1b1599e8",
   "metadata": {
    "scrolled": true
   },
   "outputs": [
    {
     "name": "stdout",
     "output_type": "stream",
     "text": [
      "            Date     Close      Open      High       Low\n",
      "0   Nov 11, 2021  38686.10  39044.00  39044.00  38442.95\n",
      "1   Aug 23, 2021  35159.20  35401.00  35401.00  34850.00\n",
      "2   Mar 10, 2021  36007.75  36244.00  36244.00  35816.00\n",
      "3   Feb 09, 2021  36045.95  36580.00  36580.00  35639.00\n",
      "4   Jan 11, 2021  32096.25  32480.00  32480.00  31888.00\n",
      "5   Jun 24, 2020  21400.60  22494.85  22494.85  21300.30\n",
      "6   May 04, 2020  19632.75  20600.00  20600.00  19505.00\n",
      "7   Apr 03, 2020  17175.80  18226.10  18226.10  17075.00\n",
      "8   Feb 27, 2020  30187.00  30265.00  30265.00  29951.15\n",
      "9   Jan 30, 2020  30647.40  31280.00  31280.00  30513.45\n",
      "10  Jan 20, 2020  31181.85  31997.65  31997.65  31126.10\n",
      "11  Dec 03, 2019  31711.20  31949.90  31949.90  31580.60\n",
      "            Date     Close      Open      High       Low\n",
      "0   Nov 12, 2021  38871.35  38171.05  38948.95  38171.05\n",
      "1   Oct 04, 2021  37735.25  37445.00  37785.00  37445.00\n",
      "2   Sep 02, 2021  36969.25  36511.00  37033.85  36511.00\n",
      "3   Jul 06, 2021  35677.40  35273.95  35925.00  35273.95\n",
      "4   Jan 01, 2021  31309.35  31250.00  31425.00  31250.00\n",
      "5   Dec 28, 2020  30928.30  30552.05  30975.40  30552.05\n",
      "6   Dec 04, 2020  30190.95  29350.00  30276.95  29350.00\n",
      "7   Oct 28, 2020  24214.25  23698.00  24795.00  23698.00\n",
      "8   Aug 11, 2020  22296.35  21900.00  22345.00  21900.00\n",
      "9   Jul 17, 2020  21971.10  21459.45  22081.00  21459.45\n",
      "10  Jun 12, 2020  20624.50  19555.00  20728.00  19555.00\n",
      "11  Apr 27, 2020  20107.10  19690.00  20240.00  19690.00\n",
      "12  Nov 28, 2019  32122.95  31874.25  32143.30  31874.25\n"
     ]
    }
   ],
   "source": [
    "import pandas as pd\n",
    "import numpy as np\n",
    "#importing the csv file \n",
    "#need to install openpyxl package to read .xlsx file\n",
    "df = pd.read_excel('/home/hrick/Downloads/data test.xlsx')\n",
    "def openeqhigh():\n",
    "    #selecting the index(days) where open price = High price\n",
    "    compcol = np.where(df[\"Open\"]==df[\"High\"],True,False)\n",
    "    pos = np.where(compcol == True)\n",
    "    #removing excess 1 dimentions to make pos a 1 d list\n",
    "    np.squeeze(pos)\n",
    "    opeqhidf = pd.DataFrame()\n",
    "    for i in pos[0]:\n",
    "        j = df.iloc[i]\n",
    "        opeqhidf = opeqhidf.append(j)\n",
    "    #reseting index and making new index\n",
    "    opeqhidf = opeqhidf.reset_index(drop=True)\n",
    "    opeqhidf.to_excel(\"open_equal_High.xlsx\")\n",
    "    return print(opeqhidf)\n",
    "def openeqlow():\n",
    "    # selecting the index(days) where open price = High price\n",
    "    compcol = np.where(df[\"Open\"]==df[\"Low\"],True,False)\n",
    "    pos = np.where(compcol == True)\n",
    "    #removing excess 1 dimentions to make pos a 1 d list\n",
    "    np.squeeze(pos)\n",
    "    opeqhidf = pd.DataFrame()\n",
    "    for i in pos[0]:\n",
    "        j = df.iloc[i]\n",
    "        opeqhidf = opeqhidf.append(j)\n",
    "    #reseting index and making new index\n",
    "    opeqhidf = opeqhidf.reset_index(drop=True)\n",
    "    opeqhidf.to_excel(\"open_equal_Low.xlsx\")\n",
    "    return print(opeqhidf)\n",
    "openeqhigh()\n",
    "openeqlow()"
   ]
  }
 ],
 "metadata": {
  "kernelspec": {
   "display_name": "Python 3 (ipykernel)",
   "language": "python",
   "name": "python3"
  },
  "language_info": {
   "codemirror_mode": {
    "name": "ipython",
    "version": 3
   },
   "file_extension": ".py",
   "mimetype": "text/x-python",
   "name": "python",
   "nbconvert_exporter": "python",
   "pygments_lexer": "ipython3",
   "version": "3.8.10"
  }
 },
 "nbformat": 4,
 "nbformat_minor": 5
}
