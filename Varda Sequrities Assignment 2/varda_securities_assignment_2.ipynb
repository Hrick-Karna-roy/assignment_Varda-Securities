{
 "cells": [
  {
   "cell_type": "code",
   "execution_count": 3,
   "id": "cc6c85a2",
   "metadata": {},
   "outputs": [],
   "source": [
    "# VARDA SECURITIES ASSIGNMENT\n",
    "import pandas as pd\n",
    "import numpy as np\n",
    "#importing the csv file \n",
    "#need to install openpyxl package to read .xlsx file\n",
    "df = pd.read_excel('data test mod.xlsx')"
   ]
  },
  {
   "cell_type": "code",
   "execution_count": 4,
   "id": "dc2a8315",
   "metadata": {},
   "outputs": [],
   "source": [
    "Data converting int the time series to get a proper formste of date and time on the data\n",
    "df['Date'] = pd.to_datetime(df['Date'], format='%m-%d-%Y')\n",
    "\n",
    "dfrm = df.set_index('Date').resample('D').asfreq()\n",
    "\n",
    "# covert Date to Monday .. Sunday to simplify the extraction\n",
    "dfrm['Day'] = dfrm.index.strftime('%A')\n",
    "\n",
    "# drop Day in ['Saturday', 'Sunday'] to remove sat and sun\n",
    "cond = dfrm['Day'].isin(['Saturday', 'Sunday'])\n",
    "dfrm = dfrm[~cond].fillna(method='ffill').reset_index()"
   ]
  },
  {
   "cell_type": "code",
   "execution_count": 55,
   "id": "d8b0c107",
   "metadata": {},
   "outputs": [
    {
     "data": {
      "text/plain": [
       "(                Date     Close      Open      High       Low\n",
       " Day                                                         \n",
       " Thursday  2021-11-11  38686.10  39044.00  39044.00  38442.95\n",
       " Friday    2021-11-12  38871.35  38171.05  38948.95  38171.05\n",
       " Monday    2021-11-15  38858.00  38950.00  39179.70  38712.05\n",
       " Tuesday   2021-11-16  38404.15  38800.00  38849.80  38292.45\n",
       " Wednesday 2021-11-17  38139.40  38150.00  38562.85  38055.00\n",
       " Thursday  2021-11-18  38105.70  38102.35  38314.90  37821.30\n",
       " Friday    2021-11-19  38105.70  38102.35  38314.90  37821.30\n",
       " Monday    2021-11-22  37182.10  38199.90  38214.10  36680.05\n",
       " Tuesday   2021-11-23  37284.30  36921.65  37474.95  36682.00\n",
       " Wednesday 2021-11-24  37465.00  37401.00  37895.50  37239.45\n",
       " Thursday  2021-11-25  37364.75  37324.00  37538.70  37115.00\n",
       " Friday    2021-11-26  36157.80  37055.25  37093.75  36025.05,\n",
       "                 Date     Close      Open      High      Low\n",
       " Day                                                        \n",
       " Friday    2019-11-01  30374.10  30200.05  30449.45  30063.1\n",
       " Monday    2019-11-04  30396.05  30457.95  30658.00  30267.0\n",
       " Tuesday   2019-11-05  30294.15  30420.05  30519.90  30155.1\n",
       " Wednesday 2019-11-06  30682.60  30260.30  30780.00  30052.0\n",
       " Thursday  2019-11-07  30664.35  30801.00  30848.95  30463.0)"
      ]
     },
     "execution_count": 55,
     "metadata": {},
     "output_type": "execute_result"
    }
   ],
   "source": [
    "dfrm.tail(12),dfn.head()\n",
    "dfrm = dfrm.set_index(\"Day\")\n",
    "# setting day as the first coloumn\n",
    "dfrm.to_csv(\"new data.csv\")\n",
    "dfrm"
   ]
  },
  {
   "cell_type": "code",
   "execution_count": 56,
   "id": "02fdffc9",
   "metadata": {},
   "outputs": [
    {
     "data": {
      "text/plain": [
       "(0       83.85\n",
       " 1      -59.00\n",
       " 2       99.80\n",
       " 3      -34.60\n",
       " 4       76.10\n",
       " 5      -43.40\n",
       " 6       94.95\n",
       " 7      -28.45\n",
       " 8       27.75\n",
       " 9     -161.20\n",
       " 10      36.90\n",
       " 11     273.90\n",
       " 12    -280.25\n",
       " 13   -1207.40\n",
       " 14     -25.20\n",
       " 15      -7.85\n",
       " 16    -323.70\n",
       " 17     301.65\n",
       " 18    -671.85\n",
       " 19    -717.60\n",
       " dtype: float64,\n",
       " 0     0.276058\n",
       " 1    -0.191814\n",
       " 2     0.321394\n",
       " 3    -0.111201\n",
       " 4     0.237784\n",
       " 5    -0.138136\n",
       " 6     0.295770\n",
       " 7    -0.087867\n",
       " 8     0.085110\n",
       " 9    -0.501225\n",
       " 10    0.114872\n",
       " 11    0.863391\n",
       " 12   -0.894500\n",
       " 13   -3.902732\n",
       " 14   -0.080665\n",
       " 15   -0.025403\n",
       " 16   -1.046262\n",
       " 17    1.038243\n",
       " 18   -2.418210\n",
       " 19   -2.867086\n",
       " dtype: float64)"
      ]
     },
     "execution_count": 56,
     "metadata": {},
     "output_type": "execute_result"
    }
   ],
   "source": [
    "data = pd.read_csv(\"new data.csv\")\n",
    "\n",
    "# creating an empty  list\n",
    "netchange = []\n",
    "\n",
    "# ranging in the data to extract the friday and monday data for getting the close price of friday and open price of monday\n",
    "for i in range(0,len(data)-1,5):\n",
    "    #net change using formula\n",
    "    netchange.append(data.at[i+1,\"Open\"]-data.at[i,\"Close\"])\n",
    "\n",
    "\n",
    "# creating an empty  list\n",
    "percentnetchange=[]\n",
    "\n",
    "# ranging in the data to extract the friday and monday data for getting the close price of friday and open price of monday\n",
    "for i in range(0,len(data)-1,5):\n",
    "    # percentage change formula using\n",
    "    percentnetchange.append(((data.at[i+1,\"Open\"]-data.at[i,\"Close\"])/data.at[i,\"Close\"])*100)\n",
    "\n",
    "# makind a series of the data (net change)\n",
    "net_change = pd.Series(netchange)\n",
    "\n",
    "#making a series of data (percentage change)\n",
    "percentage_change = pd.Series(percentnetchange)\n",
    "\n",
    "# saving as excel files\n",
    "net_change.to_excel(\"netchange.xlsx\")\n",
    "percentage_change.to_excel(\"percentage_change.xlsx\")\n",
    "\n",
    "# VARDA SECURITIES ASSIGNMENT by Hrick Karna Roy\n",
    "net_change.head(20),percentage_change.head(20)"
   ]
  }
 ],
 "metadata": {
  "kernelspec": {
   "display_name": "Python 3 (ipykernel)",
   "language": "python",
   "name": "python3"
  },
  "language_info": {
   "codemirror_mode": {
    "name": "ipython",
    "version": 3
   },
   "file_extension": ".py",
   "mimetype": "text/x-python",
   "name": "python",
   "nbconvert_exporter": "python",
   "pygments_lexer": "ipython3",
   "version": "3.8.10"
  }
 },
 "nbformat": 4,
 "nbformat_minor": 5
}
